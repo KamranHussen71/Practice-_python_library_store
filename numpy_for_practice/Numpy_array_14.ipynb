{
 "cells": [
  {
   "cell_type": "markdown",
   "id": "ea495a54-6f44-4475-9f96-04c16d274524",
   "metadata": {},
   "source": [
    "# join array"
   ]
  },
  {
   "cell_type": "code",
   "execution_count": 6,
   "id": "f7b8140c-e103-4c7e-afe8-6c4e18707e87",
   "metadata": {},
   "outputs": [
    {
     "name": "stdout",
     "output_type": "stream",
     "text": [
      "[1 2 3 4 9 8 7 6]\n"
     ]
    }
   ],
   "source": [
    "import numpy as np \n",
    "\n",
    "var = np.array([1,2,3,4])\n",
    "var1 = np.array([9,8,7,6])\n",
    "\n",
    "ar = np.concatenate((var,var1))\n",
    "print(ar)"
   ]
  },
  {
   "cell_type": "code",
   "execution_count": 7,
   "id": "c342ec9f-c89a-40cb-8fc6-ab00e53db6db",
   "metadata": {},
   "outputs": [
    {
     "name": "stdout",
     "output_type": "stream",
     "text": [
      "[[1 2]\n",
      " [3 4]]\n",
      "\n",
      "[[9 8]\n",
      " [7 6]]\n",
      "\n",
      "[[1 2 9 8]\n",
      " [3 4 7 6]]\n"
     ]
    }
   ],
   "source": [
    "vr = np.array([[1,2],[3,4]])\n",
    "vr1 = np.array([[9,8],[7,6]])\n",
    "\n",
    "ar_new = np.concatenate((vr,vr1),axis=1)\n",
    "print(vr)\n",
    "print()\n",
    "print(vr1)\n",
    "print()\n",
    "print(ar_new)"
   ]
  },
  {
   "cell_type": "code",
   "execution_count": 16,
   "id": "4c2cd430-35d6-4693-ae10-3e3106b29f73",
   "metadata": {},
   "outputs": [
    {
     "name": "stdout",
     "output_type": "stream",
     "text": [
      "[[1 9]\n",
      " [2 8]\n",
      " [3 7]\n",
      " [4 6]]\n",
      "\n",
      "[1 2 3 4 9 8 7 6]\n",
      "\n",
      "[[1 2 3 4]\n",
      " [9 8 7 6]]\n",
      "\n",
      "[[[1 9]\n",
      "  [2 8]\n",
      "  [3 7]\n",
      "  [4 6]]]\n"
     ]
    }
   ],
   "source": [
    "var_1 = np.array([1,2,3,4])\n",
    "var_2 = np.array([9,8,7,6])\n",
    "\n",
    "a_new = np.stack((var_1,var_2),axis = 1)\n",
    "a_new1 = np.hstack((var_1,var_2)) # row\n",
    "a_new2 = np.vstack((var_1,var_2)) # column\n",
    "a_new3 = np.dstack((var_1,var_2)) # Hight \n",
    "\n",
    "print(a_new)\n",
    "print()\n",
    "print(a_new1)\n",
    "print()\n",
    "print(a_new2)\n",
    "print()\n",
    "print(a_new3)"
   ]
  }
 ],
 "metadata": {
  "kernelspec": {
   "display_name": "Python 3 (ipykernel)",
   "language": "python",
   "name": "python3"
  },
  "language_info": {
   "codemirror_mode": {
    "name": "ipython",
    "version": 3
   },
   "file_extension": ".py",
   "mimetype": "text/x-python",
   "name": "python",
   "nbconvert_exporter": "python",
   "pygments_lexer": "ipython3",
   "version": "3.12.3"
  }
 },
 "nbformat": 4,
 "nbformat_minor": 5
}
