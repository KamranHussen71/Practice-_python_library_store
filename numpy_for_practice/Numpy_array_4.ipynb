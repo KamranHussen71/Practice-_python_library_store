{
 "cells": [
  {
   "cell_type": "markdown",
   "id": "6ab6acc1-a2a4-46a7-8ab2-ec15bb1790f8",
   "metadata": {},
   "source": [
    "# Data Type"
   ]
  },
  {
   "cell_type": "code",
   "execution_count": 5,
   "id": "d834b8cd-0cc6-4c98-b3f0-9aeb98cc1a53",
   "metadata": {},
   "outputs": [
    {
     "name": "stdout",
     "output_type": "stream",
     "text": [
      "Data Type : int64\n"
     ]
    }
   ],
   "source": [
    "import numpy as np\n",
    "\n",
    "var = np.array([1,2,3,4,12,13,14,15])\n",
    "\n",
    "print(\"Data Type :\",var.dtype)"
   ]
  },
  {
   "cell_type": "code",
   "execution_count": 6,
   "id": "0f5fa9d0-5604-496a-900e-bc58766f91f5",
   "metadata": {},
   "outputs": [
    {
     "name": "stdout",
     "output_type": "stream",
     "text": [
      "Data Type : float64\n"
     ]
    }
   ],
   "source": [
    "var = np.array([1.0,1.2,1.3])\n",
    "\n",
    "print(\"Data Type :\",var.dtype)"
   ]
  },
  {
   "cell_type": "code",
   "execution_count": 7,
   "id": "b0cc3ff4-01c3-4617-9dd7-16a2e0e8249e",
   "metadata": {},
   "outputs": [
    {
     "name": "stdout",
     "output_type": "stream",
     "text": [
      "Data Type : <U1\n"
     ]
    }
   ],
   "source": [
    "var = np.array([\"A\",\"S\",\"D\",\"F\"])\n",
    "\n",
    "print(\"Data Type :\",var.dtype)"
   ]
  },
  {
   "cell_type": "code",
   "execution_count": 8,
   "id": "160c20a5-582f-4111-ab24-fb245ad6af2f",
   "metadata": {},
   "outputs": [
    {
     "name": "stdout",
     "output_type": "stream",
     "text": [
      "Data Type : <U21\n"
     ]
    }
   ],
   "source": [
    "var = np.array([\"A\",\"S\",\"D\",\"F\",1,2,3,4])\n",
    "\n",
    "print(\"Data Type :\",var.dtype)"
   ]
  },
  {
   "cell_type": "code",
   "execution_count": 13,
   "id": "bbaf2972-9070-49c7-b8d9-f8f2be429173",
   "metadata": {},
   "outputs": [
    {
     "name": "stdout",
     "output_type": "stream",
     "text": [
      "Data Type : int8\n",
      "[1 2 3 4]\n"
     ]
    }
   ],
   "source": [
    "x = np.array([1,2,3,4],dtype = np.int8)\n",
    "\n",
    "print(\"Data Type :\",x.dtype)\n",
    "print(x)"
   ]
  },
  {
   "cell_type": "code",
   "execution_count": 14,
   "id": "a1cc2051-70d4-4c3f-91a2-c5f47b9a05f9",
   "metadata": {},
   "outputs": [
    {
     "name": "stdout",
     "output_type": "stream",
     "text": [
      "Data Type : float32\n",
      "[1. 2. 3. 4.]\n"
     ]
    }
   ],
   "source": [
    "x1 = np.array([1,2,3,4],dtype = \"f\")\n",
    "\n",
    "print(\"Data Type :\",x1.dtype)\n",
    "print(x1)"
   ]
  },
  {
   "cell_type": "code",
   "execution_count": 15,
   "id": "fe2794e0-a90e-43ab-946d-484507e8c42e",
   "metadata": {},
   "outputs": [
    {
     "name": "stdout",
     "output_type": "stream",
     "text": [
      "Data Type : int64\n",
      "Data Type : float32\n",
      "[1 2 3 4]\n",
      "[1. 2. 3. 4.]\n"
     ]
    }
   ],
   "source": [
    "x2 = np.array([1,2,3,4])\n",
    "\n",
    "new = np.float32(x)\n",
    "\n",
    "print(\"Data Type :\",x2.dtype)\n",
    "print(\"Data Type :\",new.dtype)\n",
    "\n",
    "print(x2)\n",
    "print(new)"
   ]
  },
  {
   "cell_type": "code",
   "execution_count": 16,
   "id": "55afad81-2eae-4503-ae9d-e7dd32dbcd18",
   "metadata": {},
   "outputs": [
    {
     "name": "stdout",
     "output_type": "stream",
     "text": [
      "Data Type : int64\n",
      "Data Type : float32\n",
      "Data Type : int64\n",
      "[1 2 3 4]\n",
      "[1. 2. 3. 4.]\n",
      "[1 2 3 4]\n"
     ]
    }
   ],
   "source": [
    "x2 = np.array([1,2,3,4])\n",
    "\n",
    "new = np.float32(x)\n",
    "\n",
    "new_one =  np.int_(new)\n",
    "\n",
    "print(\"Data Type :\",x2.dtype)\n",
    "print(\"Data Type :\",new.dtype)\n",
    "print(\"Data Type :\",new_one.dtype)\n",
    "\n",
    "print(x2)\n",
    "print(new)\n",
    "print(new_one)"
   ]
  },
  {
   "cell_type": "code",
   "execution_count": null,
   "id": "a8579807-0088-4328-b72c-630ebc2d62be",
   "metadata": {},
   "outputs": [],
   "source": [
    "x3 = np.array([1,2,3,4])\n",
    "\n",
    "new_1 ="
   ]
  }
 ],
 "metadata": {
  "kernelspec": {
   "display_name": "Python 3 (ipykernel)",
   "language": "python",
   "name": "python3"
  },
  "language_info": {
   "codemirror_mode": {
    "name": "ipython",
    "version": 3
   },
   "file_extension": ".py",
   "mimetype": "text/x-python",
   "name": "python",
   "nbconvert_exporter": "python",
   "pygments_lexer": "ipython3",
   "version": "3.12.3"
  }
 },
 "nbformat": 4,
 "nbformat_minor": 5
}
