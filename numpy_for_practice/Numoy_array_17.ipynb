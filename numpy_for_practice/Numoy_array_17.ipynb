{
 "cells": [
  {
   "cell_type": "code",
   "execution_count": 4,
   "id": "d8e83a96-a0ae-492a-82be-c49eff4d15df",
   "metadata": {},
   "outputs": [
    {
     "name": "stdout",
     "output_type": "stream",
     "text": [
      "[4 2 5 1 3]\n"
     ]
    }
   ],
   "source": [
    "import numpy as np\n",
    "\n",
    "var = np.array([1,2,3,4,5])\n",
    "\n",
    "np.random.shuffle(var)\n",
    "\n",
    "print(var)"
   ]
  },
  {
   "cell_type": "markdown",
   "id": "b6675cf7-6575-414e-a36a-53bc70313192",
   "metadata": {},
   "source": [
    "# Unique"
   ]
  },
  {
   "cell_type": "code",
   "execution_count": 9,
   "id": "4d37fdbc-d374-41a9-83d2-9d91a7567934",
   "metadata": {},
   "outputs": [
    {
     "name": "stdout",
     "output_type": "stream",
     "text": [
      "(array([1, 2, 3, 4, 5, 6, 7]), array([0, 1, 2, 3, 5, 7, 9]), array([1, 4, 1, 1, 1, 1, 1]))\n"
     ]
    }
   ],
   "source": [
    "var1 = np.array([1,2,3,4,2,5,2,6,2,7])\n",
    "\n",
    "x = np.unique(var1,return_index = True,return_counts = True)\n",
    "\n",
    "print(x)"
   ]
  },
  {
   "cell_type": "markdown",
   "id": "724e7415-ea6d-4513-9d06-3e53451424e1",
   "metadata": {},
   "source": [
    "# Resize"
   ]
  },
  {
   "cell_type": "code",
   "execution_count": 11,
   "id": "f6f1f4fb-0a2d-4406-946c-43da531f9a05",
   "metadata": {},
   "outputs": [
    {
     "name": "stdout",
     "output_type": "stream",
     "text": [
      "[[1 2]\n",
      " [3 4]\n",
      " [5 6]]\n"
     ]
    }
   ],
   "source": [
    "var2 = np.array([1,2,3,4,5,6])\n",
    "\n",
    "y = np.resize(var2, (3,2))\n",
    "\n",
    "print(y)"
   ]
  },
  {
   "cell_type": "markdown",
   "id": "a0a8eb19-f205-4775-a81a-bb13f15a3e92",
   "metadata": {},
   "source": [
    "# Flatten"
   ]
  },
  {
   "cell_type": "code",
   "execution_count": 22,
   "id": "185e7e01-3ef9-42f0-add9-9d8ecc47ace9",
   "metadata": {},
   "outputs": [
    {
     "name": "stdout",
     "output_type": "stream",
     "text": [
      "[[1 2]\n",
      " [3 4]\n",
      " [5 6]]\n",
      "\n",
      "Flatten :  [1 3 5 2 4 6]\n",
      "Ravel :  [1 2 3 4 5 6]\n"
     ]
    }
   ],
   "source": [
    "var2 = np.array([1,2,3,4,5,6])\n",
    "\n",
    "y = np.resize(var2, (3,2))\n",
    "\n",
    "print(y)\n",
    "print()\n",
    "print(\"Flatten : \",y.flatten(order = \"F\"))\n",
    "print(\"Ravel : \", np.ravel(y,order = \"K\"))"
   ]
  }
 ],
 "metadata": {
  "kernelspec": {
   "display_name": "Python 3 (ipykernel)",
   "language": "python",
   "name": "python3"
  },
  "language_info": {
   "codemirror_mode": {
    "name": "ipython",
    "version": 3
   },
   "file_extension": ".py",
   "mimetype": "text/x-python",
   "name": "python",
   "nbconvert_exporter": "python",
   "pygments_lexer": "ipython3",
   "version": "3.12.3"
  }
 },
 "nbformat": 4,
 "nbformat_minor": 5
}
