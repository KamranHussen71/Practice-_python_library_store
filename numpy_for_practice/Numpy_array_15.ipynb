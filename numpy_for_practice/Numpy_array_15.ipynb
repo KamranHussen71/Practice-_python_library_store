{
 "cells": [
  {
   "cell_type": "markdown",
   "id": "1c8ad734-d642-4e99-8f95-cb1ef0b6f172",
   "metadata": {},
   "source": [
    "# split array"
   ]
  },
  {
   "cell_type": "code",
   "execution_count": 7,
   "id": "5fe7e52f-25d7-4485-a3df-99b005936591",
   "metadata": {},
   "outputs": [
    {
     "name": "stdout",
     "output_type": "stream",
     "text": [
      "[1 2 3 4 5 6]\n",
      "\n",
      "[array([1, 2]), array([3, 4]), array([5, 6])]\n"
     ]
    }
   ],
   "source": [
    "import numpy as np\n",
    "\n",
    "var = np.array([1,2,3,4,5,6])\n",
    "\n",
    "print(var)\n",
    "\n",
    "ar = np.array_split(var,3)\n",
    "print()\n",
    "print(ar)"
   ]
  },
  {
   "cell_type": "code",
   "execution_count": 8,
   "id": "1ce2dfca-c8c3-4bc1-9514-7b2cc3b45878",
   "metadata": {},
   "outputs": [
    {
     "name": "stdout",
     "output_type": "stream",
     "text": [
      "[1 2 3 4 5 6]\n",
      "\n",
      "[array([[1, 2]]), array([[3, 4]]), array([[5, 6]])]\n"
     ]
    }
   ],
   "source": [
    "var1 = np.array([[1,2],[3,4],[5,6]])\n",
    "\n",
    "print(var)\n",
    "\n",
    "ar1 = np.array_split(var1,3)\n",
    "ar2 = np.array_split(var1,3,axis=1)\n",
    "\n",
    "print()\n",
    "print(ar1)\n",
    "print()\n",
    "print(ar1)"
   ]
  },
  {
   "cell_type": "code",
   "execution_count": null,
   "id": "4eee7f41-44f8-4210-8424-5a04b9798065",
   "metadata": {},
   "outputs": [],
   "source": []
  }
 ],
 "metadata": {
  "kernelspec": {
   "display_name": "Python 3 (ipykernel)",
   "language": "python",
   "name": "python3"
  },
  "language_info": {
   "codemirror_mode": {
    "name": "ipython",
    "version": 3
   },
   "file_extension": ".py",
   "mimetype": "text/x-python",
   "name": "python",
   "nbconvert_exporter": "python",
   "pygments_lexer": "ipython3",
   "version": "3.12.3"
  }
 },
 "nbformat": 4,
 "nbformat_minor": 5
}
