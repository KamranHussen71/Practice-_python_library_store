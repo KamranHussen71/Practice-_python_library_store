{
 "cells": [
  {
   "cell_type": "markdown",
   "id": "6911b0be-cbd4-4fd7-8818-666d6a23f326",
   "metadata": {},
   "source": [
    "# Zeros"
   ]
  },
  {
   "cell_type": "code",
   "execution_count": 3,
   "id": "9609fdfe-bc34-4a31-9b5f-3db306476b9a",
   "metadata": {},
   "outputs": [
    {
     "name": "stdout",
     "output_type": "stream",
     "text": [
      "[0. 0. 0. 0.]\n",
      "\n",
      "[[0. 0. 0. 0.]\n",
      " [0. 0. 0. 0.]\n",
      " [0. 0. 0. 0.]]\n"
     ]
    }
   ],
   "source": [
    "import numpy as np\n",
    "ar_zero = np.zeros(4)\n",
    "ar_zero1 = np.zeros((3,4))\n",
    "print(ar_zero)\n",
    "print()\n",
    "print(ar_zero1)"
   ]
  },
  {
   "cell_type": "markdown",
   "id": "af7b6b19-c0ac-49dc-a7ce-98ae13306b15",
   "metadata": {},
   "source": [
    "# ones"
   ]
  },
  {
   "cell_type": "code",
   "execution_count": 4,
   "id": "64ca78b7-fee9-46b6-9c6d-bdb5928738b1",
   "metadata": {},
   "outputs": [
    {
     "name": "stdout",
     "output_type": "stream",
     "text": [
      "[1. 1. 1. 1.]\n"
     ]
    }
   ],
   "source": [
    "ar_one = np.ones(4)\n",
    "print(ar_one)"
   ]
  },
  {
   "cell_type": "markdown",
   "id": "33b9c795-b57a-4b60-a1c9-408ca04885a2",
   "metadata": {},
   "source": [
    "# Empty"
   ]
  },
  {
   "cell_type": "code",
   "execution_count": 5,
   "id": "251c990f-fe1e-4c06-968c-c7abc54b1f43",
   "metadata": {},
   "outputs": [
    {
     "name": "stdout",
     "output_type": "stream",
     "text": [
      "[1. 1. 1. 1.]\n"
     ]
    }
   ],
   "source": [
    "ar_em = np.empty(4)\n",
    "print(ar_em)"
   ]
  },
  {
   "cell_type": "markdown",
   "id": "bac8971a-d267-4210-9fb1-c6ac7b836138",
   "metadata": {},
   "source": [
    "# Range "
   ]
  },
  {
   "cell_type": "code",
   "execution_count": 6,
   "id": "cb6ec6dd-df3e-4604-9628-045373c64977",
   "metadata": {},
   "outputs": [
    {
     "name": "stdout",
     "output_type": "stream",
     "text": [
      "[0 1 2 3]\n"
     ]
    }
   ],
   "source": [
    "ar_ran = np.arange(4)\n",
    "print(ar_ran)"
   ]
  },
  {
   "cell_type": "markdown",
   "id": "91350f08-ca87-47f0-8fad-86eab9461502",
   "metadata": {},
   "source": [
    "# Diagonal"
   ]
  },
  {
   "cell_type": "code",
   "execution_count": 8,
   "id": "31dd1f5a-a816-4c9d-8290-57142e3448df",
   "metadata": {},
   "outputs": [
    {
     "name": "stdout",
     "output_type": "stream",
     "text": [
      "[[1. 0. 0.]\n",
      " [0. 1. 0.]\n",
      " [0. 0. 1.]]\n"
     ]
    }
   ],
   "source": [
    "ar_dia = np.eye(3)\n",
    "print(ar_dia)"
   ]
  },
  {
   "cell_type": "code",
   "execution_count": 9,
   "id": "d4157a08-e69d-4bc3-9471-9162fd7e08cc",
   "metadata": {},
   "outputs": [
    {
     "name": "stdout",
     "output_type": "stream",
     "text": [
      "[[1. 0. 0. 0. 0.]\n",
      " [0. 1. 0. 0. 0.]\n",
      " [0. 0. 1. 0. 0.]]\n"
     ]
    }
   ],
   "source": [
    "ar_dia = np.eye(3,5)\n",
    "print(ar_dia)"
   ]
  },
  {
   "cell_type": "markdown",
   "id": "a4d01239-5968-4b13-b039-ab61cceb5b44",
   "metadata": {},
   "source": [
    "# linespace"
   ]
  },
  {
   "cell_type": "code",
   "execution_count": 16,
   "id": "1ee8b0c4-9b6d-4e67-a468-880990b69285",
   "metadata": {},
   "outputs": [
    {
     "name": "stdout",
     "output_type": "stream",
     "text": [
      "[ 0.  5. 10. 15. 20.]\n"
     ]
    }
   ],
   "source": [
    "ar_line =  np.linspace(0,20,num=5)\n",
    "print(ar_line)"
   ]
  }
 ],
 "metadata": {
  "kernelspec": {
   "display_name": "Python 3 (ipykernel)",
   "language": "python",
   "name": "python3"
  },
  "language_info": {
   "codemirror_mode": {
    "name": "ipython",
    "version": 3
   },
   "file_extension": ".py",
   "mimetype": "text/x-python",
   "name": "python",
   "nbconvert_exporter": "python",
   "pygments_lexer": "ipython3",
   "version": "3.12.3"
  }
 },
 "nbformat": 4,
 "nbformat_minor": 5
}
