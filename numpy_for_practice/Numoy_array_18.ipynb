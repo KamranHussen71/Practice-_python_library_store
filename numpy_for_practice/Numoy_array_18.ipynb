{
 "cells": [
  {
   "cell_type": "markdown",
   "id": "54f5dfb7-45f3-4a81-8624-98704e67143c",
   "metadata": {},
   "source": [
    "# Insert"
   ]
  },
  {
   "cell_type": "code",
   "execution_count": 22,
   "id": "7e933039-2282-4a1d-b7d1-93b949f7a99d",
   "metadata": {},
   "outputs": [
    {
     "name": "stdout",
     "output_type": "stream",
     "text": [
      "[1 2 3 4]\n",
      "[1.  2.  3.  4.  6.5]\n"
     ]
    }
   ],
   "source": [
    "import numpy as np\n",
    "\n",
    "var = np.array([1,2,3,4])\n",
    "\n",
    "print(var)\n",
    "\n",
    "# v = np.insert(var, (2,4), 6.5)\n",
    "\n",
    "x = np.append(var,6.5)\n",
    "\n",
    "print(x)"
   ]
  },
  {
   "cell_type": "code",
   "execution_count": 23,
   "id": "4cb883c6-fcb5-49a6-9054-c7dbacc20247",
   "metadata": {},
   "outputs": [
    {
     "name": "stdout",
     "output_type": "stream",
     "text": [
      "[[ 1  2  3]\n",
      " [ 1  2  3]\n",
      " [45 44 23]]\n"
     ]
    }
   ],
   "source": [
    "var1 = np.array([[1,2,3],[1,2,3]])\n",
    "\n",
    "# v1 =  np.insert(var1, 2, [22,23,27], axis = 0)\n",
    "v1 = np.append(var1,[[45,44,23]],axis = 0)\n",
    "print(v1)"
   ]
  },
  {
   "cell_type": "markdown",
   "id": "7135a3ae-1fa8-4857-9a68-0ac4fb4b6ee3",
   "metadata": {},
   "source": [
    "# Delete"
   ]
  },
  {
   "cell_type": "code",
   "execution_count": 25,
   "id": "579dc7c2-35bc-453d-98f2-2f19891fee11",
   "metadata": {},
   "outputs": [
    {
     "name": "stdout",
     "output_type": "stream",
     "text": [
      "[1 2 3 4]\n",
      "[1 2 4]\n"
     ]
    }
   ],
   "source": [
    "import numpy as np\n",
    "\n",
    "var1 = np.array([1,2,3,4])\n",
    "\n",
    "print(var1)\n",
    "\n",
    "d = np.delete(var1,2)\n",
    "\n",
    "print(d)"
   ]
  }
 ],
 "metadata": {
  "kernelspec": {
   "display_name": "Python 3 (ipykernel)",
   "language": "python",
   "name": "python3"
  },
  "language_info": {
   "codemirror_mode": {
    "name": "ipython",
    "version": 3
   },
   "file_extension": ".py",
   "mimetype": "text/x-python",
   "name": "python",
   "nbconvert_exporter": "python",
   "pygments_lexer": "ipython3",
   "version": "3.12.3"
  }
 },
 "nbformat": 4,
 "nbformat_minor": 5
}
