{
 "cells": [
  {
   "cell_type": "markdown",
   "id": "3a6fd563-d0eb-49fb-bab6-80c2cc52d02e",
   "metadata": {},
   "source": [
    "# Transpose Matrix"
   ]
  },
  {
   "cell_type": "code",
   "execution_count": 16,
   "id": "d5638d6e-540d-48b9-bc86-a484c0b3c12f",
   "metadata": {},
   "outputs": [
    {
     "name": "stdout",
     "output_type": "stream",
     "text": [
      "[[1 2 3]\n",
      " [4 5 6]]\n",
      "\n",
      "[[1 4]\n",
      " [2 5]\n",
      " [3 6]]\n",
      "\n",
      "[[1 4]\n",
      " [2 5]\n",
      " [3 6]]\n",
      "\n",
      "[[1 4]\n",
      " [2 5]\n",
      " [3 6]]\n"
     ]
    }
   ],
   "source": [
    "import numpy as np\n",
    "\n",
    "var = np.matrix([[1,2,3],[4,5,6]])\n",
    "print(var)\n",
    "print()\n",
    "\n",
    "# Transposr \n",
    "print(np.transpose(var))\n",
    "print()\n",
    "\n",
    "# sort form\n",
    "print(var.T)\n",
    "print()\n",
    "\n",
    "# swapaxes\n",
    "print(np.swapaxes(var,0,1))"
   ]
  },
  {
   "cell_type": "markdown",
   "id": "6e74a5b5-a9b9-46cb-a52c-19a3e6bd3e66",
   "metadata": {},
   "source": [
    "# Swapaxes Matrix"
   ]
  },
  {
   "cell_type": "code",
   "execution_count": 17,
   "id": "9974f611-6730-4f65-a122-d9b55127a435",
   "metadata": {},
   "outputs": [
    {
     "name": "stdout",
     "output_type": "stream",
     "text": [
      "[[1 2]\n",
      " [3 4]]\n",
      "\n",
      "[[1 3]\n",
      " [2 4]]\n"
     ]
    }
   ],
   "source": [
    "var2 =  np.matrix([[1,2],[3,4]])\n",
    "print(var2)\n",
    "print()\n",
    "print(np.swapaxes(var2,0,1))"
   ]
  },
  {
   "cell_type": "markdown",
   "id": "760f0514-ce62-4112-b1dd-74e1b592b366",
   "metadata": {},
   "source": [
    "# Inverse Matrix"
   ]
  },
  {
   "cell_type": "code",
   "execution_count": 18,
   "id": "6f54f9c5-2205-445e-8a4e-870a2155c5e0",
   "metadata": {},
   "outputs": [
    {
     "name": "stdout",
     "output_type": "stream",
     "text": [
      "[[1 2]\n",
      " [3 4]]\n",
      "\n",
      "[[-2.   1. ]\n",
      " [ 1.5 -0.5]]\n"
     ]
    }
   ],
   "source": [
    "var3 =  np.matrix([[1,2],[3,4]])\n",
    "print(var3)\n",
    "print()\n",
    "\n",
    "print(np.linalg.inv(var3))"
   ]
  },
  {
   "cell_type": "markdown",
   "id": "118d22d0-9644-4483-90b5-e0c17c78b918",
   "metadata": {},
   "source": [
    "# Power of matrix"
   ]
  },
  {
   "cell_type": "code",
   "execution_count": 22,
   "id": "66e69617-f206-4ba5-ad67-2d2efec39b9b",
   "metadata": {},
   "outputs": [
    {
     "name": "stdout",
     "output_type": "stream",
     "text": [
      "[[1 2]\n",
      " [3 4]]\n",
      "\n",
      "[[ 7 10]\n",
      " [15 22]]\n",
      "\n",
      "[[1 0]\n",
      " [0 1]]\n",
      "\n",
      "[[ 5.5  -2.5 ]\n",
      " [-3.75  1.75]]\n",
      "\n"
     ]
    }
   ],
   "source": [
    "var4 =  np.matrix([[1,2],[3,4]])\n",
    "\n",
    "print(var4)\n",
    "print()\n",
    "\n",
    "print(np.linalg.matrix_power(var4,2))\n",
    "print()\n",
    "\n",
    "print(np.linalg.matrix_power(var4,0))\n",
    "print()\n",
    "\n",
    "print(np.linalg.matrix_power(var4,-2))\n",
    "print()"
   ]
  },
  {
   "cell_type": "markdown",
   "id": "59a5d47a-04f3-46ea-8a8f-13f505c61339",
   "metadata": {},
   "source": [
    "# Determinate Matrix"
   ]
  },
  {
   "cell_type": "code",
   "execution_count": 24,
   "id": "48ebb215-1882-4551-9ffb-593895ce8b17",
   "metadata": {},
   "outputs": [
    {
     "name": "stdout",
     "output_type": "stream",
     "text": [
      "[[1 2 3]\n",
      " [3 4 3]\n",
      " [1 2 3]]\n",
      "\n",
      "0.0\n"
     ]
    }
   ],
   "source": [
    "var5 =  np.matrix([[1,2,3],[3,4,3],[1,2,3]])\n",
    "\n",
    "print(var5)\n",
    "print()\n",
    "\n",
    "print(np.linalg.det(var5))"
   ]
  }
 ],
 "metadata": {
  "kernelspec": {
   "display_name": "Python 3 (ipykernel)",
   "language": "python",
   "name": "python3"
  },
  "language_info": {
   "codemirror_mode": {
    "name": "ipython",
    "version": 3
   },
   "file_extension": ".py",
   "mimetype": "text/x-python",
   "name": "python",
   "nbconvert_exporter": "python",
   "pygments_lexer": "ipython3",
   "version": "3.12.3"
  }
 },
 "nbformat": 4,
 "nbformat_minor": 5
}
