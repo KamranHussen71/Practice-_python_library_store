{
 "cells": [
  {
   "cell_type": "markdown",
   "id": "22ef0680-62d0-43cb-9717-6226381c1599",
   "metadata": {},
   "source": [
    "# slicing"
   ]
  },
  {
   "cell_type": "code",
   "execution_count": 11,
   "id": "187f4d36-4f73-48c5-b24e-50f1d9ba5431",
   "metadata": {},
   "outputs": [
    {
     "name": "stdout",
     "output_type": "stream",
     "text": [
      "[9 8 7 6 5 4 3]\n",
      "\n",
      "2 to 5 :  [8 7 6 5]\n",
      "\n",
      "2 to end :  [8 7 6 5 4 3]\n",
      "\n",
      "Start to 5 :  [9 8 7 6 5]\n",
      "\n",
      "Stop :  [8 6]\n"
     ]
    }
   ],
   "source": [
    "import numpy as np\n",
    "\n",
    "var = np.array([9,8,7,6,5,4,3])\n",
    "\n",
    "print(var)\n",
    "\n",
    "print()\n",
    "\n",
    "print(\"2 to 5 : \",var[1:5])\n",
    "print()\n",
    "\n",
    "print(\"2 to end : \",var[1:])\n",
    "print()\n",
    "\n",
    "print(\"Start to 5 : \",var[:5])\n",
    "print()\n",
    "\n",
    "print(\"Stop : \",var[1:5:2])"
   ]
  },
  {
   "cell_type": "code",
   "execution_count": 17,
   "id": "3ac91795-824d-490f-a5b6-f404266c6f04",
   "metadata": {},
   "outputs": [
    {
     "name": "stdout",
     "output_type": "stream",
     "text": [
      "[[ 1  2  3  4  5]\n",
      " [ 9  8  7  6  5]\n",
      " [11 12 13 14 15]]\n",
      "\n",
      "2 to 5 :  [2 3 4 5]\n",
      "\n",
      "8 to 5 :  [8 7 6 5]\n",
      "\n",
      "12 to 15 :  [12 13 14 15]\n"
     ]
    }
   ],
   "source": [
    "var1 = np.array([[1,2,3,4,5],[9,8,7,6,5],[11,12,13,14,15]])\n",
    "\n",
    "print(var1)\n",
    "print()\n",
    "\n",
    "print(\"2 to 5 : \",var1[0,1:])\n",
    "print()\n",
    "\n",
    "print(\"8 to 5 : \",var1[1,1:])\n",
    "print()\n",
    "\n",
    "print(\"12 to 15 : \",var1[2,1:])"
   ]
  },
  {
   "cell_type": "code",
   "execution_count": null,
   "id": "532c164e-f2d7-41b2-9d39-196cb1c9a8d7",
   "metadata": {},
   "outputs": [],
   "source": []
  }
 ],
 "metadata": {
  "kernelspec": {
   "display_name": "Python 3 (ipykernel)",
   "language": "python",
   "name": "python3"
  },
  "language_info": {
   "codemirror_mode": {
    "name": "ipython",
    "version": 3
   },
   "file_extension": ".py",
   "mimetype": "text/x-python",
   "name": "python",
   "nbconvert_exporter": "python",
   "pygments_lexer": "ipython3",
   "version": "3.12.3"
  }
 },
 "nbformat": 4,
 "nbformat_minor": 5
}
