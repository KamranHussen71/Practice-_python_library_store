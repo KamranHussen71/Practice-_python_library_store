{
 "cells": [
  {
   "cell_type": "markdown",
   "id": "a9912892-f61c-4682-8497-2e82d4391e68",
   "metadata": {},
   "source": [
    "# Random "
   ]
  },
  {
   "cell_type": "markdown",
   "id": "ef364833-9aa6-46db-90d1-1181307c665f",
   "metadata": {},
   "source": [
    "**Rand()**"
   ]
  },
  {
   "cell_type": "code",
   "execution_count": 3,
   "id": "1a60ddb5-41a9-4f42-be19-65a3426ea511",
   "metadata": {},
   "outputs": [
    {
     "name": "stdout",
     "output_type": "stream",
     "text": [
      "[0.06604527 0.42293167 0.14270833 0.49274493]\n"
     ]
    }
   ],
   "source": [
    "import numpy as np\n",
    "\n",
    "var = np.random.rand(4)\n",
    "\n",
    "print(var)"
   ]
  },
  {
   "cell_type": "code",
   "execution_count": 4,
   "id": "797d8e8a-af7d-404d-b2ea-e3ed38a4e969",
   "metadata": {},
   "outputs": [
    {
     "name": "stdout",
     "output_type": "stream",
     "text": [
      "[[0.40938774 0.31335043 0.74597396 0.7501966  0.28765007]\n",
      " [0.1444096  0.56587017 0.92113008 0.48865136 0.45038611]]\n"
     ]
    }
   ],
   "source": [
    "var1 = np.random.rand(2,5)\n",
    "\n",
    "print(var1)"
   ]
  },
  {
   "cell_type": "markdown",
   "id": "1daae89e-0d7a-425b-8304-03a187c9ccd9",
   "metadata": {},
   "source": [
    "**randn()**"
   ]
  },
  {
   "cell_type": "code",
   "execution_count": 10,
   "id": "51543ffe-8cc1-4176-b8e6-9fc1f6e89ad7",
   "metadata": {},
   "outputs": [
    {
     "name": "stdout",
     "output_type": "stream",
     "text": [
      "[-0.43920413  0.43875342  0.15390365 -2.4140757   0.33074367]\n"
     ]
    }
   ],
   "source": [
    "var2 = np.random.randn(5)\n",
    "\n",
    "print(var2)"
   ]
  },
  {
   "cell_type": "markdown",
   "id": "d3cd50fd-3144-4788-ba10-de2a9e5c4e91",
   "metadata": {},
   "source": [
    "**ranf()**"
   ]
  },
  {
   "cell_type": "code",
   "execution_count": 13,
   "id": "ef986dea-6c90-427a-bb5e-dbc738ac4da3",
   "metadata": {},
   "outputs": [
    {
     "name": "stdout",
     "output_type": "stream",
     "text": [
      "[0.21224016 0.4427783  0.9306313  0.0797573 ]\n"
     ]
    }
   ],
   "source": [
    "var3 = np.random.ranf(4)\n",
    "\n",
    "print(var3)"
   ]
  },
  {
   "cell_type": "markdown",
   "id": "38e42c1a-1924-437e-a07f-3aa8df77baf0",
   "metadata": {},
   "source": [
    "**randint()**"
   ]
  },
  {
   "cell_type": "code",
   "execution_count": 15,
   "id": "523a4678-6df5-419b-bd1d-f923ad986ce1",
   "metadata": {},
   "outputs": [
    {
     "name": "stdout",
     "output_type": "stream",
     "text": [
      "[18  5 15 13  7]\n"
     ]
    }
   ],
   "source": [
    "var4 = np.random.randint(5,20,5)\n",
    "\n",
    "print(var4)"
   ]
  }
 ],
 "metadata": {
  "kernelspec": {
   "display_name": "Python 3 (ipykernel)",
   "language": "python",
   "name": "python3"
  },
  "language_info": {
   "codemirror_mode": {
    "name": "ipython",
    "version": 3
   },
   "file_extension": ".py",
   "mimetype": "text/x-python",
   "name": "python",
   "nbconvert_exporter": "python",
   "pygments_lexer": "ipython3",
   "version": "3.12.3"
  }
 },
 "nbformat": 4,
 "nbformat_minor": 5
}
