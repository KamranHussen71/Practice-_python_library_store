{
 "cells": [
  {
   "cell_type": "markdown",
   "id": "37753559-2fb4-4816-b75f-021639887740",
   "metadata": {},
   "source": [
    "# Searching "
   ]
  },
  {
   "cell_type": "code",
   "execution_count": 16,
   "id": "29508b03-3a5e-46ab-8515-4db9abed14bc",
   "metadata": {},
   "outputs": [
    {
     "name": "stdout",
     "output_type": "stream",
     "text": [
      "(array([1, 4, 6]),)\n"
     ]
    }
   ],
   "source": [
    "import numpy as np\n",
    "\n",
    "var = np.array([4,2,3,4,2,5,2,5,6,7])\n",
    "\n",
    "x = np.where( var == 2)\n",
    "\n",
    "print(x)"
   ]
  },
  {
   "cell_type": "code",
   "execution_count": 17,
   "id": "da87a8c3-51e6-4be6-9448-34c3ddd97482",
   "metadata": {},
   "outputs": [
    {
     "name": "stdout",
     "output_type": "stream",
     "text": [
      "[4 4 4]\n"
     ]
    }
   ],
   "source": [
    "var1 = np.array([1,2,3,4,8,9,10])\n",
    "\n",
    "x1 = np.searchsorted(var1, [5,6,7], side = \"right\")\n",
    "\n",
    "print(x1)"
   ]
  },
  {
   "cell_type": "markdown",
   "id": "73cffa08-0d6d-4ee6-aabc-263246ebac00",
   "metadata": {},
   "source": [
    "# Sort"
   ]
  },
  {
   "cell_type": "code",
   "execution_count": 26,
   "id": "02ba0988-659d-4c4a-acf8-54596780fd33",
   "metadata": {},
   "outputs": [
    {
     "name": "stdout",
     "output_type": "stream",
     "text": [
      "[[ 2  3  4]\n",
      " [ 1  5 10]\n",
      " [ 6 11 22]]\n"
     ]
    }
   ],
   "source": [
    "var_1 = np.array([[4,2,3],[1,10,5],[22,11,6]])\n",
    "\n",
    "print(np.sort(var_1))"
   ]
  },
  {
   "cell_type": "code",
   "execution_count": 28,
   "id": "96192957-245b-4d28-98a0-e07621be3417",
   "metadata": {},
   "outputs": [
    {
     "name": "stdout",
     "output_type": "stream",
     "text": [
      "['a' 'd' 'f' 's']\n"
     ]
    }
   ],
   "source": [
    "var_2 = np.array([\"a\",\"s\",\"d\",\"f\"])\n",
    "\n",
    "print(np.sort(var_2))"
   ]
  },
  {
   "cell_type": "markdown",
   "id": "be52fc21-8a29-4f07-9759-8649b584bf9b",
   "metadata": {},
   "source": [
    "# Filtering array"
   ]
  },
  {
   "cell_type": "code",
   "execution_count": 29,
   "id": "326e0cd9-d072-4b38-8e84-96bb04cb8dc9",
   "metadata": {},
   "outputs": [
    {
     "name": "stdout",
     "output_type": "stream",
     "text": [
      "['a' 'f']\n"
     ]
    }
   ],
   "source": [
    "var_3 = np.array([\"a\",\"s\",\"d\",\"f\"])\n",
    "\n",
    "f = [True,False,False,True]\n",
    "\n",
    "new_a = var_3[f]\n",
    "\n",
    "print(new_a)"
   ]
  }
 ],
 "metadata": {
  "kernelspec": {
   "display_name": "Python 3 (ipykernel)",
   "language": "python",
   "name": "python3"
  },
  "language_info": {
   "codemirror_mode": {
    "name": "ipython",
    "version": 3
   },
   "file_extension": ".py",
   "mimetype": "text/x-python",
   "name": "python",
   "nbconvert_exporter": "python",
   "pygments_lexer": "ipython3",
   "version": "3.12.3"
  }
 },
 "nbformat": 4,
 "nbformat_minor": 5
}
